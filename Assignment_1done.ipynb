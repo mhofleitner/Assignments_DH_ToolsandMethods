{
 "cells": [
  {
   "cell_type": "markdown",
   "metadata": {},
   "source": [
    "## First Assignment"
   ]
  },
  {
   "cell_type": "markdown",
   "metadata": {},
   "source": [
    "#### 1) Apply the appropriate string methods to the **x** variable (as '.upper') to change it exactly to: \"$Dichlorodiphenyltrichloroethane$\"."
   ]
  },
  {
   "cell_type": "code",
   "execution_count": 53,
   "metadata": {},
   "outputs": [],
   "source": [
    "x = \"DiClOrod  IFeNi  lTRicLOr oETaNo  DiChlorod iPHeny lTrichL oroEThaNe\""
   ]
  },
  {
   "cell_type": "code",
   "execution_count": 54,
   "metadata": {},
   "outputs": [
    {
     "name": "stdout",
     "output_type": "stream",
     "text": [
      "Diclorodifeniltricloroetanodichlorodiphenyltrichloroethane\n"
     ]
    }
   ],
   "source": [
    "x = x.replace(\" \", \"\")\n",
    "x = x.capitalize()\n",
    "print(x)"
   ]
  },
  {
   "cell_type": "markdown",
   "metadata": {},
   "source": [
    "#### 2) Assign respectively the values: 'word', 15, 3.14 and 'list' to variables A, B, C and D in a single line of code. Then, print them in that same order on a single line separated by a space, using only one print statement."
   ]
  },
  {
   "cell_type": "code",
   "execution_count": 43,
   "metadata": {},
   "outputs": [
    {
     "name": "stdout",
     "output_type": "stream",
     "text": [
      "word 15 3.14 list\n"
     ]
    }
   ],
   "source": [
    "y ={\"A\" : \"word\", \"B\" : 15, \"C\" : 3.14, \"D\" : \"list\"}\n",
    "print(y[\"A\"], y[\"B\"], y[\"C\"],y[\"D\"])\n"
   ]
  },
  {
   "cell_type": "markdown",
   "metadata": {},
   "source": [
    "#### 3) Use the **input()** function to receive an input in the form **'68.4 1.71'**, that is, two floating point numbers in a line separated by space. Then, assign these numbers to the variables **w** and **h** respectively, which represent an individual's weight and height (hint: take a look at the '.split()' method). With this data, calculate the individual's Body Mass Index (BMI) from the following relationship: \n",
    "    \n",
    "\\begin{equation}\n",
    "BMI = \\dfrac{weight}{height^2}\n",
    "\\end{equation}"
   ]
  },
  {
   "cell_type": "code",
   "execution_count": null,
   "metadata": {},
   "outputs": [],
   "source": [
    "h,w = input(\"what is your height? What is yout weight?\").split()\n",
    "BMI = float(w)/float(h)**float(h)\n",
    "print(BMI)"
   ]
  },
  {
   "cell_type": "markdown",
   "metadata": {},
   "source": [
    "#### This value can also be classified according to ranges of values, following to the table below. Use conditional structures to classify and print the classification assigned to the individual. \n",
    "\n",
    "<center><img src=\"https://healthtravelguide.com/wp-content/uploads/2020/06/Body-mass-index-table.png\" width=\"30%\"><\\center>  \n",
    "\n",
    "\n",
    "(source: https://healthtravelguide.com/bmi-calculator/)"
   ]
  },
  {
   "cell_type": "code",
   "execution_count": 4,
   "metadata": {},
   "outputs": [
    {
     "name": "stdout",
     "output_type": "stream",
     "text": [
      "you are at a normal weight\n"
     ]
    }
   ],
   "source": [
    "if BMI < 18.5:\n",
    "    print(\"you are underweight.\")\n",
    "if BMI >= 18.5:\n",
    "    print(\"you are at a normal weight.\")\n",
    "if BMI >= 25.0:\n",
    "    print(\"you have pre-obesity.\")\n",
    "if BMI >= 30.0:\n",
    "    print(\"you are class I obese.\")\n",
    "if BMI >= 35.0:\n",
    "    print(\"you are class II obese.\")\n",
    "if BMI >= 40.0:\n",
    "    print(\"you are class III obese.\")"
   ]
  },
  {
   "cell_type": "markdown",
   "metadata": {},
   "source": [
    "#### 4) Receive an integer as an input and, using a loop, calculate the factorial of this number, that is, the product of all the integers from one to the number provided. "
   ]
  },
  {
   "cell_type": "code",
   "execution_count": 3,
   "metadata": {},
   "outputs": [
    {
     "name": "stdout",
     "output_type": "stream",
     "text": [
      "30! = 8841761993739701954543616000000\n"
     ]
    }
   ],
   "source": [
    " #cannot use input function ->  a = int(input(\"give me an integer!\"))\n",
    "a = 30\n",
    "fact = 1\n",
    "for c in range (1, + a):\n",
    "    fact*= c\n",
    "print(f\"{a}! = {fact}\")"
   ]
  },
  {
   "cell_type": "markdown",
   "metadata": {},
   "source": [
    "#### 5) Using a while loop and the input function, read an indefinite number of integers until the number read is -1. Present the sum of all these numbers in the form of a print, excluding the -1 read at the end. "
   ]
  },
  {
   "cell_type": "code",
   "execution_count": 4,
   "metadata": {},
   "outputs": [
    {
     "name": "stdout",
     "output_type": "stream",
     "text": [
      "9\n",
      "8\n",
      "7\n",
      "6\n",
      "5\n",
      "4\n",
      "3\n",
      "2\n",
      "1\n",
      "0\n",
      "-1\n",
      "Sum of numbers = 0\n",
      "Sum of numbers = 1\n",
      "Sum of numbers = 2\n",
      "Sum of numbers = 3\n",
      "Sum of numbers = 4\n",
      "Sum of numbers = 5\n",
      "Sum of numbers = 6\n",
      "Sum of numbers = 7\n",
      "Sum of numbers = 8\n",
      "Sum of numbers = 9\n"
     ]
    }
   ],
   "source": [
    "#if I use an input function my Kernel stops working, so I just defined a number instead\n",
    "#num = int(input(\"Give me a number!\"))\n",
    "num = 9\n",
    "while num < 10:\n",
    "    print(num)\n",
    "    num -= 1\n",
    "    if num == -2:\n",
    "        break\n",
    "for num in range (0, 10):\n",
    "    print(f\"Sum of numbers = {num}\")"
   ]
  },
  {
   "cell_type": "code",
   "execution_count": null,
   "metadata": {},
   "outputs": [],
   "source": []
  },
  {
   "cell_type": "markdown",
   "metadata": {},
   "source": [
    "#### 6) Read the **first name** of an employee, his **amount of hours worked** and the **salary per hour** in a single line separated by commas. Next, calculate the **total salary** for this employee and show it to two decimal places."
   ]
  },
  {
   "cell_type": "code",
   "execution_count": 55,
   "metadata": {},
   "outputs": [
    {
     "name": "stdout",
     "output_type": "stream",
     "text": [
      "Alex,25.5,17.67\n",
      "450.59\n"
     ]
    }
   ],
   "source": [
    "# name, amnth, sal = input(\"give me Your first name, Your amount of workhours, and Your salary per hour.\"). split.(\",\")\n",
    "name, amnth, sal, = 'Alex', 25.5, 17.67,\n",
    "print(name,amnth,sal,sep=\",\")\n",
    "totalsal= amnth*sal\n",
    "print(\"{:.2f}\".format(totalsal))"
   ]
  },
  {
   "cell_type": "markdown",
   "metadata": {},
   "source": [
    "#### 7) Read three floating point values **A**, **B** and **C** respectively. Then calculate itens a, b, c, d and e: "
   ]
  },
  {
   "cell_type": "code",
   "execution_count": 58,
   "metadata": {},
   "outputs": [
    {
     "name": "stdout",
     "output_type": "stream",
     "text": [
      "23.0 12.0 24.0\n"
     ]
    }
   ],
   "source": [
    "# A, B, C = [float(x) for x in input(\"give me A, B and C\").split(\" \")]\n",
    "A = float(23)\n",
    "B = float(12)\n",
    "C = float(24)\n",
    "print(A, B, C)"
   ]
  },
  {
   "cell_type": "markdown",
   "metadata": {},
   "source": [
    "    a) the area of the triangle rectangle with A as the base and C as the height."
   ]
  },
  {
   "cell_type": "code",
   "execution_count": 59,
   "metadata": {},
   "outputs": [
    {
     "name": "stdout",
     "output_type": "stream",
     "text": [
      "276.0\n"
     ]
    }
   ],
   "source": [
    "# (A*C)/2\n",
    "A1 = A*C/2\n",
    "print(A1)"
   ]
  },
  {
   "cell_type": "markdown",
   "metadata": {},
   "source": [
    "    b) the area of the circle of radius C. (pi = 3.14159) "
   ]
  },
  {
   "cell_type": "code",
   "execution_count": 60,
   "metadata": {},
   "outputs": [
    {
     "name": "stdout",
     "output_type": "stream",
     "text": [
      "1809.55584\n"
     ]
    }
   ],
   "source": [
    "# pi*C**2\n",
    "A2 = 3.14159*C**2\n",
    "print(A2)"
   ]
  },
  {
   "cell_type": "markdown",
   "metadata": {},
   "source": [
    "    c) the area of the trapezoid that has A and B for bases and C for height. "
   ]
  },
  {
   "cell_type": "code",
   "execution_count": 61,
   "metadata": {},
   "outputs": [
    {
     "name": "stdout",
     "output_type": "stream",
     "text": [
      "420.0\n"
     ]
    }
   ],
   "source": [
    "# 1/2(A+B)*C\n",
    "A3 = 1/2*(A+B)*C\n",
    "print(A3)"
   ]
  },
  {
   "cell_type": "markdown",
   "metadata": {},
   "source": [
    "    d) the area of the square that has side B. "
   ]
  },
  {
   "cell_type": "code",
   "execution_count": 62,
   "metadata": {},
   "outputs": [
    {
     "name": "stdout",
     "output_type": "stream",
     "text": [
      "144.0\n"
     ]
    }
   ],
   "source": [
    "# Ar = B*B\n",
    "A4 = B*B\n",
    "print(A4)"
   ]
  },
  {
   "cell_type": "markdown",
   "metadata": {},
   "source": [
    "    e) the area of the rectangle that has sides A and B. "
   ]
  },
  {
   "cell_type": "code",
   "execution_count": 63,
   "metadata": {},
   "outputs": [
    {
     "name": "stdout",
     "output_type": "stream",
     "text": [
      "276.0\n"
     ]
    }
   ],
   "source": [
    "A5= A*B\n",
    "print(A5)"
   ]
  },
  {
   "cell_type": "markdown",
   "metadata": {},
   "source": [
    "#### 8) Read **the values a, b and c** and calculate the **roots of the second degree equation** $ax^{2}+bx+c=0$ using [this formula](https://en.wikipedia.org/wiki/Quadratic_equation). If it is not possible to calculate the roots, display the message **“There are no real roots”**. "
   ]
  },
  {
   "cell_type": "code",
   "execution_count": 64,
   "metadata": {},
   "outputs": [
    {
     "name": "stdout",
     "output_type": "stream",
     "text": [
      "roots: (-0.21739130434782608-0.9304754156101172j), (-0.21739130434782608+0.9304754156101172j)\n"
     ]
    }
   ],
   "source": [
    "# a, b, c = int(input(\"give me 3 values\")).split(\",\")\n",
    "a = 23\n",
    "b = 10\n",
    "c = 21\n",
    "if a == 0:\n",
    "    print(\"There are no real roots.\")\n",
    "import cmath\n",
    "d = (b**2) - (4*a*c)\n",
    "r1 = (-b-cmath.sqrt(d))/(2*a)\n",
    "r2 = (-b+cmath.sqrt(d))/(2*a)\n",
    "print(f\"roots: {r1}, {r2}\")\n"
   ]
  },
  {
   "cell_type": "markdown",
   "metadata": {},
   "source": [
    "#### 9) Read four floating point numerical values corresponding to the coordinates of two geographical coordinates in the cartesian plane. Each point will come in a line with its coordinates separated by space. Then calculate and show the distance between these two points. \n",
    "\n",
    "(obs: $d=\\sqrt{(x_1-x_2)^2 + (y_1-y_2)^2}$)"
   ]
  },
  {
   "cell_type": "code",
   "execution_count": 3,
   "metadata": {},
   "outputs": [
    {
     "name": "stdout",
     "output_type": "stream",
     "text": [
      "2.6981475126464085j\n"
     ]
    }
   ],
   "source": [
    "# x1, y1 = [float (i) for i in input(\"Give me the x coordinates seperated by a comma.\").split(\",\")]\n",
    "# x2, y2 = [float (i) for i in input(\"Give me the y coordinates seperated by a comma.\").split(\",\")]\n",
    "x1= 1.3\n",
    "x2= 2.3\n",
    "y1= 4.0\n",
    "y2= 2.7\n",
    "import cmath\n",
    "result= cmath.sqrt(x1-x2**2 + y1 - y2**2)\n",
    "print(result)"
   ]
  },
  {
   "cell_type": "markdown",
   "metadata": {},
   "source": [
    "#### 10) Read **two floating point numbers** on a line that represent **coordinates of a cartesian point**. With this, use **conditional structures** to determine if you are at the origin, printing the message **'origin'**; in one of the axes, printing **'x axis'** or **'y axis'**; or in one of the four quadrants, printing **'q1'**, **'q2**', **'q3'** or **'q4'**. "
   ]
  },
  {
   "cell_type": "code",
   "execution_count": 5,
   "metadata": {},
   "outputs": [
    {
     "name": "stdout",
     "output_type": "stream",
     "text": [
      "q1\n"
     ]
    }
   ],
   "source": [
    "# x, y = [float (i) for i in input(\"Give me the x coordinates seperated by a comma.\").split(\",\")]\n",
    "x= 4\n",
    "y= 7\n",
    "if y== 0 and x== 0:\n",
    "    print(\"origin\")\n",
    "elif y== 0:\n",
    "    print(\" xaxis\")\n",
    "elif x== 0:\n",
    "    print(\"yaxis\")\n",
    "elif x > 0 and y > 0:\n",
    "    print( \"q1\")\n",
    "elif x < 0 and y < 0:\n",
    "    print(\"q2\")\n",
    "elif x > 0:\n",
    "    print(\"q3\")\n",
    "elif y > 0:\n",
    "    print(\"q4\")\n",
    "    \n"
   ]
  },
  {
   "cell_type": "markdown",
   "metadata": {},
   "source": [
    "#### 11) Read an integer that represents a phone code for international dialing.  \n",
    "#### Then, inform to which country the code belongs to, considering the generated table below:\n",
    "(You just need to consider the first 10 entries)  "
   ]
  },
  {
   "cell_type": "code",
   "execution_count": null,
   "metadata": {},
   "outputs": [],
   "source": [
    "import pandas as pd\n",
    "df = pd.read_html('https://en.wikipedia.org/wiki/Telephone_numbers_in_Europe')[1]\n",
    "df = df.iloc[:,:2]\n",
    "df.head(20)\n"
   ]
  },
  {
   "cell_type": "code",
   "execution_count": 20,
   "metadata": {},
   "outputs": [
    {
     "name": "stdout",
     "output_type": "stream",
     "text": [
      "Austria\n"
     ]
    }
   ],
   "source": [
    "#code = input(\"please enter the code of your country\")\n",
    "code = 43\n",
    "mydictofccodes = {43: \"Austria\",32: \"Belgium\",359: \"Blulgaria\", 385: \"Croatia\", 357 :\"Cyprus\", 420: \"CZR\", 33: \"France\"}\n",
    "if code in mydictofccodes.keys():\n",
    "    print(mydictofccodes[code])\n",
    "else:\n",
    "    print(\"Code not in Dictionary of European Country Codes.\")"
   ]
  },
  {
   "cell_type": "markdown",
   "metadata": {},
   "source": [
    "#### 12) Write a piece of code that reads 6 numbers in a row. Next, show the number of positive values entered. On the next line, print the average of the values to one decimal place. "
   ]
  },
  {
   "cell_type": "code",
   "execution_count": 27,
   "metadata": {},
   "outputs": [
    {
     "name": "stdout",
     "output_type": "stream",
     "text": [
      "[1, 5, 7, 12]\n",
      "6.25\n"
     ]
    }
   ],
   "source": [
    "#ABC = [float(y) for y in input(\"Give six number separated by space\").split(\" \")\n",
    "mylist=[1 , -3, -4, 5, 7, 12]\n",
    "mynewlist=[n for n in mylist if n > 0]\n",
    "print(mynewlist)\n",
    "average = sum(mynewlist)/len(mynewlist)\n",
    "print(average)"
   ]
  },
  {
   "cell_type": "markdown",
   "metadata": {},
   "source": [
    "#### 13) Read an integer **N**. Then print the **square of each of the even values**, from 1 to N, including N, if applicable, arranged one per line. "
   ]
  },
  {
   "cell_type": "code",
   "execution_count": 50,
   "metadata": {},
   "outputs": [
    {
     "name": "stdout",
     "output_type": "stream",
     "text": [
      "4\n",
      "16\n",
      "36\n",
      "64\n",
      "100\n",
      "144\n",
      "196\n",
      "256\n",
      "324\n",
      "400\n",
      "484\n",
      "576\n",
      "676\n",
      "784\n",
      "900\n",
      "1024\n",
      "1156\n",
      "1296\n",
      "1444\n",
      "1600\n",
      "1764\n",
      "1936\n",
      "2116\n",
      "2304\n",
      "2500\n",
      "2704\n",
      "2916\n",
      "3136\n",
      "3364\n",
      "3600\n",
      "3844\n",
      "4096\n",
      "4356\n",
      "4624\n",
      "4900\n",
      "5184\n",
      "5476\n",
      "5776\n",
      "6084\n",
      "6400\n",
      "6724\n",
      "7056\n",
      "7396\n",
      "7744\n",
      "8100\n",
      "8464\n",
      "8836\n",
      "9216\n",
      "9604\n",
      "10000\n",
      "10404\n",
      "10816\n",
      "11236\n",
      "11664\n",
      "12100\n",
      "12544\n",
      "12996\n",
      "13456\n",
      "13924\n",
      "14400\n",
      "14884\n",
      "15376\n",
      "15876\n",
      "16384\n",
      "16900\n",
      "17424\n",
      "17956\n",
      "18496\n",
      "19044\n",
      "19600\n",
      "20164\n",
      "20736\n"
     ]
    }
   ],
   "source": [
    "# int1 = int(input(\"give me an integer!\"))\n",
    "int1 = 144\n",
    "for p in range(1,int1+1):\n",
    "    if p%2 == 0:\n",
    "        print(p**2)\n"
   ]
  },
  {
   "cell_type": "markdown",
   "metadata": {},
   "source": [
    "#### 14) Using **input()**, read an integer and print its classification as **'even / odd'** and **'positive / negative'** . The two classes for the number must be printed on the same line separated by a space. In the case of zero, print only **'null'**. "
   ]
  },
  {
   "cell_type": "code",
   "execution_count": 41,
   "metadata": {},
   "outputs": [
    {
     "name": "stdout",
     "output_type": "stream",
     "text": [
      "positive even\n"
     ]
    }
   ],
   "source": [
    "#num3= int(input(\"Give me a number!\"))\n",
    "num3 = 36\n",
    "clss1 = \"negative\" if num3 < 0 else \"positive\"\n",
    "clss2 = \"even\" if num3%2 == 0 else \"odd\"\n",
    "if num3 == 0:\n",
    "    print(\"zero\")\n",
    "else:\n",
    "    print(clss1 , clss2)\n"
   ]
  },
  {
   "cell_type": "markdown",
   "metadata": {},
   "source": [
    "## Challenge\n",
    "#### 15) Ordering problems are recurrent in the history of programming. Over time, several algorithms have been developed to fulfill this function. The simplest of these algorithms is the [**Bubble Sort**](https://en.wikipedia.org/wiki/Bubble_sort), which is based on comparisons of elements two by two in a loop of passes through the elements. Your mission, if you decide to accept it, will be to input six whole numbers ramdonly ordered. Then implement the **Bubble Sort** principle to order these six numbers **using only loops and conditionals**.  \n",
    "#### At the end, print the six numbers in ascending order on a single line separated by spaces. "
   ]
  },
  {
   "cell_type": "code",
   "execution_count": null,
   "metadata": {},
   "outputs": [],
   "source": [
    "\n"
   ]
  }
 ],
 "metadata": {
  "kernelspec": {
   "display_name": "Python 3",
   "language": "python",
   "name": "python3"
  },
  "language_info": {
   "codemirror_mode": {
    "name": "ipython",
    "version": 3
   },
   "file_extension": ".py",
   "mimetype": "text/x-python",
   "name": "python",
   "nbconvert_exporter": "python",
   "pygments_lexer": "ipython3",
   "version": "3.8.5"
  }
 },
 "nbformat": 4,
 "nbformat_minor": 4
}
